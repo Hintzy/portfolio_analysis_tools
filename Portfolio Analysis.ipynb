{
 "cells": [
  {
   "cell_type": "code",
   "execution_count": 1,
   "id": "52278795",
   "metadata": {},
   "outputs": [
    {
     "data": {
      "text/plain": [
       "'C:\\\\Users\\\\David Hintz\\\\Documents\\\\Python\\\\Portfolio Analysis'"
      ]
     },
     "execution_count": 1,
     "metadata": {},
     "output_type": "execute_result"
    }
   ],
   "source": [
    "pwd"
   ]
  },
  {
   "cell_type": "markdown",
   "id": "00201698",
   "metadata": {},
   "source": [
    "# Portfolio Positions Analysis"
   ]
  },
  {
   "cell_type": "markdown",
   "id": "345203b8",
   "metadata": {},
   "source": [
    "## Initial Imports"
   ]
  },
  {
   "cell_type": "code",
   "execution_count": 2,
   "id": "128538a8",
   "metadata": {},
   "outputs": [],
   "source": [
    "import numpy as np\n",
    "import pandas as pd"
   ]
  },
  {
   "cell_type": "code",
   "execution_count": 3,
   "id": "8f960191",
   "metadata": {},
   "outputs": [],
   "source": [
    "import matplotlib.pyplot as plt\n",
    "import seaborn as sns\n",
    "\n",
    "%matplotlib inline"
   ]
  },
  {
   "cell_type": "markdown",
   "id": "3aac1c61",
   "metadata": {},
   "source": [
    "# Account Allocations on Separate Pie Charts"
   ]
  },
  {
   "cell_type": "markdown",
   "id": "d1219aee",
   "metadata": {},
   "source": [
    "Clean the account allocations data set."
   ]
  },
  {
   "cell_type": "code",
   "execution_count": 46,
   "id": "7f036bf4",
   "metadata": {},
   "outputs": [],
   "source": [
    "acct_allocations = pd.read_csv('account_allocations.csv')"
   ]
  },
  {
   "cell_type": "code",
   "execution_count": 58,
   "id": "c3a2b161",
   "metadata": {},
   "outputs": [
    {
     "data": {
      "text/html": [
       "<div>\n",
       "<style scoped>\n",
       "    .dataframe tbody tr th:only-of-type {\n",
       "        vertical-align: middle;\n",
       "    }\n",
       "\n",
       "    .dataframe tbody tr th {\n",
       "        vertical-align: top;\n",
       "    }\n",
       "\n",
       "    .dataframe thead th {\n",
       "        text-align: right;\n",
       "    }\n",
       "</style>\n",
       "<table border=\"1\" class=\"dataframe\">\n",
       "  <thead>\n",
       "    <tr style=\"text-align: right;\">\n",
       "      <th></th>\n",
       "      <th>Account Nickname</th>\n",
       "      <th>Domestic Stock</th>\n",
       "      <th>Foreign Stock</th>\n",
       "      <th>Bonds</th>\n",
       "      <th>Short term</th>\n",
       "      <th>Other</th>\n",
       "    </tr>\n",
       "  </thead>\n",
       "  <tbody>\n",
       "    <tr>\n",
       "      <th>0</th>\n",
       "      <td>Brokerage</td>\n",
       "      <td>73.3</td>\n",
       "      <td>1.2</td>\n",
       "      <td>12.8</td>\n",
       "      <td>13.6</td>\n",
       "      <td>-0.9</td>\n",
       "    </tr>\n",
       "    <tr>\n",
       "      <th>1</th>\n",
       "      <td>Roth</td>\n",
       "      <td>73.9</td>\n",
       "      <td>13.4</td>\n",
       "      <td>6.2</td>\n",
       "      <td>2.8</td>\n",
       "      <td>3.7</td>\n",
       "    </tr>\n",
       "    <tr>\n",
       "      <th>2</th>\n",
       "      <td>SwRI Rollover</td>\n",
       "      <td>62.0</td>\n",
       "      <td>4.5</td>\n",
       "      <td>6.5</td>\n",
       "      <td>26.8</td>\n",
       "      <td>0.2</td>\n",
       "    </tr>\n",
       "    <tr>\n",
       "      <th>3</th>\n",
       "      <td>UL 401k</td>\n",
       "      <td>50.4</td>\n",
       "      <td>25.2</td>\n",
       "      <td>24.0</td>\n",
       "      <td>0.2</td>\n",
       "      <td>0.2</td>\n",
       "    </tr>\n",
       "  </tbody>\n",
       "</table>\n",
       "</div>"
      ],
      "text/plain": [
       "  Account Nickname  Domestic Stock  Foreign Stock  Bonds  Short term  Other\n",
       "0        Brokerage            73.3            1.2   12.8        13.6   -0.9\n",
       "1             Roth            73.9           13.4    6.2         2.8    3.7\n",
       "2    SwRI Rollover            62.0            4.5    6.5        26.8    0.2\n",
       "3          UL 401k            50.4           25.2   24.0         0.2    0.2"
      ]
     },
     "execution_count": 58,
     "metadata": {},
     "output_type": "execute_result"
    }
   ],
   "source": [
    "acct_allocations.head()"
   ]
  },
  {
   "cell_type": "code",
   "execution_count": 47,
   "id": "23e381b3",
   "metadata": {},
   "outputs": [],
   "source": [
    "acct_allocations.drop('Account Name', axis=1, inplace=True)"
   ]
  },
  {
   "cell_type": "code",
   "execution_count": 59,
   "id": "6ee53ff5",
   "metadata": {},
   "outputs": [],
   "source": [
    "acct_allocs = acct_allocations.set_index('Account Nickname').transpose()"
   ]
  },
  {
   "cell_type": "code",
   "execution_count": 60,
   "id": "8b5ace79",
   "metadata": {
    "scrolled": true
   },
   "outputs": [],
   "source": [
    "acct_allocs[acct_allocs < 0] = 0"
   ]
  },
  {
   "cell_type": "code",
   "execution_count": 147,
   "id": "79297b48",
   "metadata": {},
   "outputs": [
    {
     "data": {
      "text/html": [
       "<div>\n",
       "<style scoped>\n",
       "    .dataframe tbody tr th:only-of-type {\n",
       "        vertical-align: middle;\n",
       "    }\n",
       "\n",
       "    .dataframe tbody tr th {\n",
       "        vertical-align: top;\n",
       "    }\n",
       "\n",
       "    .dataframe thead th {\n",
       "        text-align: right;\n",
       "    }\n",
       "</style>\n",
       "<table border=\"1\" class=\"dataframe\">\n",
       "  <thead>\n",
       "    <tr style=\"text-align: right;\">\n",
       "      <th>Account Nickname</th>\n",
       "      <th>Brokerage</th>\n",
       "      <th>Roth</th>\n",
       "      <th>SwRI Rollover</th>\n",
       "      <th>UL 401k</th>\n",
       "    </tr>\n",
       "  </thead>\n",
       "  <tbody>\n",
       "    <tr>\n",
       "      <th>Domestic Stock</th>\n",
       "      <td>73.3</td>\n",
       "      <td>73.9</td>\n",
       "      <td>62.0</td>\n",
       "      <td>50.4</td>\n",
       "    </tr>\n",
       "    <tr>\n",
       "      <th>Foreign Stock</th>\n",
       "      <td>1.2</td>\n",
       "      <td>13.4</td>\n",
       "      <td>4.5</td>\n",
       "      <td>25.2</td>\n",
       "    </tr>\n",
       "    <tr>\n",
       "      <th>Bonds</th>\n",
       "      <td>12.8</td>\n",
       "      <td>6.2</td>\n",
       "      <td>6.5</td>\n",
       "      <td>24.0</td>\n",
       "    </tr>\n",
       "    <tr>\n",
       "      <th>Short term</th>\n",
       "      <td>13.6</td>\n",
       "      <td>2.8</td>\n",
       "      <td>26.8</td>\n",
       "      <td>0.2</td>\n",
       "    </tr>\n",
       "    <tr>\n",
       "      <th>Other</th>\n",
       "      <td>0.0</td>\n",
       "      <td>3.7</td>\n",
       "      <td>0.2</td>\n",
       "      <td>0.2</td>\n",
       "    </tr>\n",
       "  </tbody>\n",
       "</table>\n",
       "</div>"
      ],
      "text/plain": [
       "Account Nickname  Brokerage  Roth  SwRI Rollover  UL 401k\n",
       "Domestic Stock         73.3  73.9           62.0     50.4\n",
       "Foreign Stock           1.2  13.4            4.5     25.2\n",
       "Bonds                  12.8   6.2            6.5     24.0\n",
       "Short term             13.6   2.8           26.8      0.2\n",
       "Other                   0.0   3.7            0.2      0.2"
      ]
     },
     "execution_count": 147,
     "metadata": {},
     "output_type": "execute_result"
    }
   ],
   "source": [
    "acct_allocs"
   ]
  },
  {
   "cell_type": "code",
   "execution_count": 62,
   "id": "d1dfb373",
   "metadata": {
    "scrolled": true
   },
   "outputs": [
    {
     "data": {
      "text/plain": [
       "['Brokerage', 'Roth', 'SwRI Rollover', 'UL 401k']"
      ]
     },
     "execution_count": 62,
     "metadata": {},
     "output_type": "execute_result"
    }
   ],
   "source": [
    "accounts = [acct for acct in acct_allocs.columns]\n",
    "accounts"
   ]
  },
  {
   "cell_type": "code",
   "execution_count": 150,
   "id": "4db7e108",
   "metadata": {},
   "outputs": [
    {
     "data": {
      "image/png": "[encoded data removed]",
      "text/plain": [
       "<Figure size 1000x1000 with 4 Axes>"
      ]
     },
     "metadata": {},
     "output_type": "display_data"
    }
   ],
   "source": [
    "pie_rows = 2\n",
    "pie_cols = 2\n",
    "\n",
    "fig, ax = plt.subplots(pie_rows, pie_cols, figsize=(10,10))\n",
    "\n",
    "for i, acct in enumerate(accounts):\n",
    "    row, col = divmod(i, pie_cols)\n",
    "    ax[row, col].pie(acct_allocs[acct], labels=acct_allocs.index, shadow=True, autopct='%1.1f%%')\n",
    "    ax[row, col].set_title(acct)"
   ]
  },
  {
   "cell_type": "markdown",
   "id": "832aed7e",
   "metadata": {},
   "source": [
    "Determine total overall account portfolio allocations based on fund sizes."
   ]
  },
  {
   "cell_type": "code",
   "execution_count": 115,
   "id": "40d9297b",
   "metadata": {},
   "outputs": [],
   "source": [
    "curr_positions = pd.read_csv('Pos_3_23_2024.csv')"
   ]
  },
  {
   "cell_type": "markdown",
   "id": "925f2062",
   "metadata": {},
   "source": [
    "Remove rows that aren't used for analysis."
   ]
  },
  {
   "cell_type": "code",
   "execution_count": 116,
   "id": "696b7ee9",
   "metadata": {
    "scrolled": true
   },
   "outputs": [],
   "source": [
    "pos = curr_positions.drop(columns=['Quantity', 'Last Price', 'Last Price Change', 'Today\\'s Gain/Loss Dollar', 'Today\\'s Gain/Loss Percent', 'Cost Basis Total', 'Average Cost Basis', 'Type'])"
   ]
  },
  {
   "cell_type": "markdown",
   "id": "460b6fe5",
   "metadata": {},
   "source": [
    "Clean data set to exclude rows outside of 4 main fidelity accounts."
   ]
  },
  {
   "cell_type": "code",
   "execution_count": 117,
   "id": "85d1938e",
   "metadata": {},
   "outputs": [],
   "source": [
    "rows_to_drop = pos[(pos['Account Number'] != 'X83787064') & (pos['Account Number'] != '220468797') & (pos['Account Number'] != '221575194') & (pos['Account Number'] != '67762')]"
   ]
  },
  {
   "cell_type": "code",
   "execution_count": 118,
   "id": "22f6c734",
   "metadata": {},
   "outputs": [],
   "source": [
    "pos = pos.drop(rows_to_drop.index)"
   ]
  },
  {
   "cell_type": "markdown",
   "id": "6d1924e5",
   "metadata": {},
   "source": [
    "Convert current value from string to floats"
   ]
  },
  {
   "cell_type": "code",
   "execution_count": 123,
   "id": "732c9326",
   "metadata": {},
   "outputs": [],
   "source": [
    "pos['Current Value'] = pos['Current Value'].apply(lambda s: float(s[1:]))"
   ]
  },
  {
   "cell_type": "markdown",
   "id": "76259254",
   "metadata": {},
   "source": [
    "Get totals for each account and merge with account allocations dataframe."
   ]
  },
  {
   "cell_type": "code",
   "execution_count": 127,
   "id": "90ec2695",
   "metadata": {},
   "outputs": [],
   "source": [
    "acct_values = pos.groupby('Account Number')['Current Value'].sum()"
   ]
  },
  {
   "cell_type": "code",
   "execution_count": 132,
   "id": "557ecb94",
   "metadata": {},
   "outputs": [
    {
     "data": {
      "text/plain": [
       "Account Number\n",
       "220468797    105035.80\n",
       "221575194    380778.38\n",
       "67762        134527.31\n",
       "X83787064     99921.46\n",
       "Name: Current Value, dtype: float64"
      ]
     },
     "execution_count": 132,
     "metadata": {},
     "output_type": "execute_result"
    }
   ],
   "source": [
    "acct_values"
   ]
  },
  {
   "cell_type": "code",
   "execution_count": 137,
   "id": "c94816c8",
   "metadata": {},
   "outputs": [],
   "source": [
    "num_name = {\n",
    "    \"220468797\" : 'Roth',\n",
    "    \"221575194\" : 'SwRI Rollover',\n",
    "    \"67762\" : 'UL 401k',\n",
    "    \"X83787064\" : 'Brokerage'\n",
    "}"
   ]
  },
  {
   "cell_type": "code",
   "execution_count": 141,
   "id": "d48687be",
   "metadata": {},
   "outputs": [],
   "source": [
    "acct_values = acct_values.reset_index()"
   ]
  },
  {
   "cell_type": "code",
   "execution_count": 144,
   "id": "860ab0bd",
   "metadata": {},
   "outputs": [],
   "source": [
    "acct_values['Account Nickname'] = acct_values['Account Number'].apply(lambda s: num_name[s])"
   ]
  },
  {
   "cell_type": "code",
   "execution_count": 145,
   "id": "344bf385",
   "metadata": {},
   "outputs": [
    {
     "data": {
      "text/html": [
       "<div>\n",
       "<style scoped>\n",
       "    .dataframe tbody tr th:only-of-type {\n",
       "        vertical-align: middle;\n",
       "    }\n",
       "\n",
       "    .dataframe tbody tr th {\n",
       "        vertical-align: top;\n",
       "    }\n",
       "\n",
       "    .dataframe thead th {\n",
       "        text-align: right;\n",
       "    }\n",
       "</style>\n",
       "<table border=\"1\" class=\"dataframe\">\n",
       "  <thead>\n",
       "    <tr style=\"text-align: right;\">\n",
       "      <th></th>\n",
       "      <th>Account Number</th>\n",
       "      <th>Current Value</th>\n",
       "      <th>Account Nickname</th>\n",
       "    </tr>\n",
       "  </thead>\n",
       "  <tbody>\n",
       "    <tr>\n",
       "      <th>0</th>\n",
       "      <td>220468797</td>\n",
       "      <td>105035.80</td>\n",
       "      <td>Roth</td>\n",
       "    </tr>\n",
       "    <tr>\n",
       "      <th>1</th>\n",
       "      <td>221575194</td>\n",
       "      <td>380778.38</td>\n",
       "      <td>SwRI Rollover</td>\n",
       "    </tr>\n",
       "    <tr>\n",
       "      <th>2</th>\n",
       "      <td>67762</td>\n",
       "      <td>134527.31</td>\n",
       "      <td>UL 401k</td>\n",
       "    </tr>\n",
       "    <tr>\n",
       "      <th>3</th>\n",
       "      <td>X83787064</td>\n",
       "      <td>99921.46</td>\n",
       "      <td>Brokerage</td>\n",
       "    </tr>\n",
       "  </tbody>\n",
       "</table>\n",
       "</div>"
      ],
      "text/plain": [
       "  Account Number  Current Value Account Nickname\n",
       "0      220468797      105035.80             Roth\n",
       "1      221575194      380778.38    SwRI Rollover\n",
       "2          67762      134527.31          UL 401k\n",
       "3      X83787064       99921.46        Brokerage"
      ]
     },
     "execution_count": 145,
     "metadata": {},
     "output_type": "execute_result"
    }
   ],
   "source": []
  },
  {
   "cell_type": "code",
   "execution_count": 146,
   "id": "e7993fe8",
   "metadata": {},
   "outputs": [
    {
     "data": {
      "text/html": [
       "<div>\n",
       "<style scoped>\n",
       "    .dataframe tbody tr th:only-of-type {\n",
       "        vertical-align: middle;\n",
       "    }\n",
       "\n",
       "    .dataframe tbody tr th {\n",
       "        vertical-align: top;\n",
       "    }\n",
       "\n",
       "    .dataframe thead th {\n",
       "        text-align: right;\n",
       "    }\n",
       "</style>\n",
       "<table border=\"1\" class=\"dataframe\">\n",
       "  <thead>\n",
       "    <tr style=\"text-align: right;\">\n",
       "      <th></th>\n",
       "      <th>Account Number</th>\n",
       "      <th>Account Name</th>\n",
       "      <th>Symbol</th>\n",
       "      <th>Description</th>\n",
       "      <th>Current Value</th>\n",
       "      <th>Total Gain/Loss Dollar</th>\n",
       "      <th>Total Gain/Loss Percent</th>\n",
       "      <th>Percent Of Account</th>\n",
       "    </tr>\n",
       "  </thead>\n",
       "  <tbody>\n",
       "    <tr>\n",
       "      <th>0</th>\n",
       "      <td>X83787064</td>\n",
       "      <td>Individual Brokerage</td>\n",
       "      <td>912797FS1</td>\n",
       "      <td>UNITED STATES TREAS BILLS ZERO CPN 0.00000% 06...</td>\n",
       "      <td>9884.20</td>\n",
       "      <td>+$135.38</td>\n",
       "      <td>+1.38%</td>\n",
       "      <td>9.89%</td>\n",
       "    </tr>\n",
       "    <tr>\n",
       "      <th>1</th>\n",
       "      <td>X83787064</td>\n",
       "      <td>Individual Brokerage</td>\n",
       "      <td>91282CDB4</td>\n",
       "      <td>UNITED STATES TREAS SER AT-2024 0.62500% 10/15...</td>\n",
       "      <td>2924.52</td>\n",
       "      <td>+$36.54</td>\n",
       "      <td>+1.26%</td>\n",
       "      <td>2.93%</td>\n",
       "    </tr>\n",
       "    <tr>\n",
       "      <th>2</th>\n",
       "      <td>X83787064</td>\n",
       "      <td>Individual Brokerage</td>\n",
       "      <td>FDLXX</td>\n",
       "      <td>FIDELITY TREASURY ONLY MONEY MARKET FD</td>\n",
       "      <td>12709.10</td>\n",
       "      <td>NaN</td>\n",
       "      <td>NaN</td>\n",
       "      <td>12.72%</td>\n",
       "    </tr>\n",
       "    <tr>\n",
       "      <th>3</th>\n",
       "      <td>X83787064</td>\n",
       "      <td>Individual Brokerage</td>\n",
       "      <td>FSKAX</td>\n",
       "      <td>FIDELITY TOTAL MARKET INDEX FUND</td>\n",
       "      <td>24361.14</td>\n",
       "      <td>+$2356.07</td>\n",
       "      <td>+10.70%</td>\n",
       "      <td>24.38%</td>\n",
       "    </tr>\n",
       "    <tr>\n",
       "      <th>4</th>\n",
       "      <td>X83787064</td>\n",
       "      <td>Individual Brokerage</td>\n",
       "      <td>FXAIX</td>\n",
       "      <td>FIDELITY 500 INDEX FUND</td>\n",
       "      <td>25608.28</td>\n",
       "      <td>+$2608.28</td>\n",
       "      <td>+11.34%</td>\n",
       "      <td>25.63%</td>\n",
       "    </tr>\n",
       "  </tbody>\n",
       "</table>\n",
       "</div>"
      ],
      "text/plain": [
       "  Account Number          Account Name     Symbol  \\\n",
       "0      X83787064  Individual Brokerage  912797FS1   \n",
       "1      X83787064  Individual Brokerage  91282CDB4   \n",
       "2      X83787064  Individual Brokerage      FDLXX   \n",
       "3      X83787064  Individual Brokerage      FSKAX   \n",
       "4      X83787064  Individual Brokerage      FXAIX   \n",
       "\n",
       "                                         Description  Current Value  \\\n",
       "0  UNITED STATES TREAS BILLS ZERO CPN 0.00000% 06...        9884.20   \n",
       "1  UNITED STATES TREAS SER AT-2024 0.62500% 10/15...        2924.52   \n",
       "2             FIDELITY TREASURY ONLY MONEY MARKET FD       12709.10   \n",
       "3                   FIDELITY TOTAL MARKET INDEX FUND       24361.14   \n",
       "4                            FIDELITY 500 INDEX FUND       25608.28   \n",
       "\n",
       "  Total Gain/Loss Dollar Total Gain/Loss Percent Percent Of Account  \n",
       "0               +$135.38                  +1.38%              9.89%  \n",
       "1                +$36.54                  +1.26%              2.93%  \n",
       "2                    NaN                     NaN             12.72%  \n",
       "3              +$2356.07                 +10.70%             24.38%  \n",
       "4              +$2608.28                 +11.34%             25.63%  "
      ]
     },
     "execution_count": 146,
     "metadata": {},
     "output_type": "execute_result"
    }
   ],
   "source": []
  },
  {
   "cell_type": "markdown",
   "id": "6e710096",
   "metadata": {},
   "source": [
    "Fund allocations per account."
   ]
  },
  {
   "cell_type": "code",
   "execution_count": 7,
   "id": "438b5e2a",
   "metadata": {},
   "outputs": [],
   "source": [
    "fund_allocations = pd.read_csv('fund_allocations.csv')"
   ]
  },
  {
   "cell_type": "code",
   "execution_count": 8,
   "id": "ba2c3c2f",
   "metadata": {},
   "outputs": [
    {
     "data": {
      "text/html": [
       "<div>\n",
       "<style scoped>\n",
       "    .dataframe tbody tr th:only-of-type {\n",
       "        vertical-align: middle;\n",
       "    }\n",
       "\n",
       "    .dataframe tbody tr th {\n",
       "        vertical-align: top;\n",
       "    }\n",
       "\n",
       "    .dataframe thead th {\n",
       "        text-align: right;\n",
       "    }\n",
       "</style>\n",
       "<table border=\"1\" class=\"dataframe\">\n",
       "  <thead>\n",
       "    <tr style=\"text-align: right;\">\n",
       "      <th></th>\n",
       "      <th>Symbol</th>\n",
       "      <th>Type</th>\n",
       "      <th>Dom Stock %</th>\n",
       "      <th>Int Stock %</th>\n",
       "      <th>Dom Bond %</th>\n",
       "      <th>Int Bond %</th>\n",
       "      <th>Cash</th>\n",
       "      <th>Other</th>\n",
       "      <th>Expense Ratio</th>\n",
       "    </tr>\n",
       "  </thead>\n",
       "  <tbody>\n",
       "    <tr>\n",
       "      <th>0</th>\n",
       "      <td>31565A745</td>\n",
       "      <td>MIXED</td>\n",
       "      <td>54.68</td>\n",
       "      <td>35.42</td>\n",
       "      <td>8.93</td>\n",
       "      <td>0.97</td>\n",
       "      <td>0.00</td>\n",
       "      <td>0.0</td>\n",
       "      <td>0.07</td>\n",
       "    </tr>\n",
       "    <tr>\n",
       "      <th>1</th>\n",
       "      <td>31617E836</td>\n",
       "      <td>MIXED</td>\n",
       "      <td>96.48</td>\n",
       "      <td>3.31</td>\n",
       "      <td>0.07</td>\n",
       "      <td>0.00</td>\n",
       "      <td>0.14</td>\n",
       "      <td>0.0</td>\n",
       "      <td>0.43</td>\n",
       "    </tr>\n",
       "    <tr>\n",
       "      <th>2</th>\n",
       "      <td>62400PKP4</td>\n",
       "      <td>BOND</td>\n",
       "      <td>0.00</td>\n",
       "      <td>0.00</td>\n",
       "      <td>100.00</td>\n",
       "      <td>0.00</td>\n",
       "      <td>0.00</td>\n",
       "      <td>0.0</td>\n",
       "      <td>0.00</td>\n",
       "    </tr>\n",
       "    <tr>\n",
       "      <th>3</th>\n",
       "      <td>912797FS1</td>\n",
       "      <td>BOND</td>\n",
       "      <td>0.00</td>\n",
       "      <td>0.00</td>\n",
       "      <td>100.00</td>\n",
       "      <td>0.00</td>\n",
       "      <td>0.00</td>\n",
       "      <td>0.0</td>\n",
       "      <td>0.00</td>\n",
       "    </tr>\n",
       "    <tr>\n",
       "      <th>4</th>\n",
       "      <td>912797GX9</td>\n",
       "      <td>BOND</td>\n",
       "      <td>0.00</td>\n",
       "      <td>0.00</td>\n",
       "      <td>100.00</td>\n",
       "      <td>0.00</td>\n",
       "      <td>0.00</td>\n",
       "      <td>0.0</td>\n",
       "      <td>0.00</td>\n",
       "    </tr>\n",
       "  </tbody>\n",
       "</table>\n",
       "</div>"
      ],
      "text/plain": [
       "      Symbol   Type  Dom Stock %  Int Stock %  Dom Bond %  Int Bond %  Cash  \\\n",
       "0  31565A745  MIXED        54.68        35.42        8.93        0.97  0.00   \n",
       "1  31617E836  MIXED        96.48         3.31        0.07        0.00  0.14   \n",
       "2  62400PKP4   BOND         0.00         0.00      100.00        0.00  0.00   \n",
       "3  912797FS1   BOND         0.00         0.00      100.00        0.00  0.00   \n",
       "4  912797GX9   BOND         0.00         0.00      100.00        0.00  0.00   \n",
       "\n",
       "   Other  Expense Ratio  \n",
       "0    0.0           0.07  \n",
       "1    0.0           0.43  \n",
       "2    0.0           0.00  \n",
       "3    0.0           0.00  \n",
       "4    0.0           0.00  "
      ]
     },
     "execution_count": 8,
     "metadata": {},
     "output_type": "execute_result"
    }
   ],
   "source": [
    "fund_allocations.head()"
   ]
  },
  {
   "cell_type": "code",
   "execution_count": null,
   "id": "c6b05a0a",
   "metadata": {},
   "outputs": [],
   "source": []
  }
 ],
 "metadata": {
  "kernelspec": {
   "display_name": "Python 3 (ipykernel)",
   "language": "python",
   "name": "python3"
  },
  "language_info": {
   "codemirror_mode": {
    "name": "ipython",
    "version": 3
   },
   "file_extension": ".py",
   "mimetype": "text/x-python",
   "name": "python",
   "nbconvert_exporter": "python",
   "pygments_lexer": "ipython3",
   "version": "3.11.5"
  }
 },
 "nbformat": 4,
 "nbformat_minor": 5
}
